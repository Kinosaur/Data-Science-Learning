{
 "cells": [
  {
   "cell_type": "code",
   "execution_count": 2,
   "metadata": {},
   "outputs": [],
   "source": [
    "from sklearn.neighbors import KNeighborsClassifier\n",
    "from sklearn.metrics import classification_report, confusion_matrix\n",
    "from sklearn.model_selection import train_test_split, KFold, cross_val_score\n",
    "from sklearn.linear_model import LinearRegression\n",
    "from sklearn.impute import SimpleImputer\n",
    "from sklearn.pipeline import Pipeline\n",
    "import pandas as pd\n",
    "import numpy as np\n",
    "import matplotlib.pyplot as plt"
   ]
  },
  {
   "cell_type": "code",
   "execution_count": 27,
   "metadata": {},
   "outputs": [
    {
     "name": "stdout",
     "output_type": "stream",
     "text": [
      "(1334,)\n",
      "(1334,)\n",
      "[[1106   11]\n",
      " [ 183   34]]\n",
      "              precision    recall  f1-score   support\n",
      "\n",
      "           0       0.86      0.99      0.92      1117\n",
      "           1       0.76      0.16      0.26       217\n",
      "\n",
      "    accuracy                           0.85      1334\n",
      "   macro avg       0.81      0.57      0.59      1334\n",
      "weighted avg       0.84      0.85      0.81      1334\n",
      "\n"
     ]
    }
   ],
   "source": [
    "churn_df= pd.read_csv('churn_df.csv',index_col=0)\n",
    "X = churn_df.drop('churn',axis = 1).values\n",
    "y = churn_df['churn'].values\n",
    "knn = KNeighborsClassifier(n_neighbors = 7)\n",
    "X_train, X_test, y_train, y_test = train_test_split(X,y,test_size = 0.4,random_state = 42)\n",
    "knn.fit(X_train,y_train)\n",
    "y_pred = knn.predict(X_test)\n",
    "\n",
    "print(y_test.shape)\n",
    "print(y_pred.shape)\n",
    "\n",
    "print(confusion_matrix(y_test,y_pred))\n",
    "print(classification_report(y_test,y_pred))"
   ]
  },
  {
   "cell_type": "code",
   "execution_count": null,
   "metadata": {},
   "outputs": [
    {
     "name": "stdout",
     "output_type": "stream",
     "text": [
      "   Anime  Blues  Classical  Country  Electronic  Hip-Hop  Jazz  Rap  Rock\n",
      "0      0      0          0        0           0        0     1    0     0\n",
      "1      0      0          0        0           0        0     0    1     0\n",
      "2      0      0          0        0           1        0     0    0     0\n",
      "3      0      0          0        0           0        0     0    0     1\n",
      "4      0      0          0        0           0        0     0    1     0\n"
     ]
    }
   ],
   "source": [
    "music_df = pd.read_csv(\"music.csv\")\n",
    "music_dummies = pd.get_dummies(music_df[\"genre\"], drop_first=True).astype(int)\n",
    "# pd.get_dummies is used to convert categorical variable(s) into dummy/indicator variables.\n",
    "# In this case, it converts the 'genre' column into one-hot encoded columns, dropping the first category to avoid multicollinearity.\n",
    "print(music_dummies.head())"
   ]
  },
  {
   "cell_type": "code",
   "execution_count": 29,
   "metadata": {},
   "outputs": [
    {
     "name": "stdout",
     "output_type": "stream",
     "text": [
      "Index(['Unnamed: 0', 'popularity', 'acousticness', 'danceability',\n",
      "       'duration_ms', 'energy', 'instrumentalness', 'liveness', 'loudness',\n",
      "       'speechiness', 'tempo', 'valence', 'Anime', 'Blues', 'Classical',\n",
      "       'Country', 'Electronic', 'Hip-Hop', 'Jazz', 'Rap', 'Rock'],\n",
      "      dtype='object')\n",
      "[8.14828914 8.63267535 7.56370022 8.61139914 7.91041513]\n"
     ]
    }
   ],
   "source": [
    "music_dummies = pd.concat([music_df, music_dummies], axis = 1)\n",
    "music_dummies = music_dummies.drop('genre', axis=1)\n",
    "#music_dummies.head()\n",
    "print(music_dummies.columns)\n",
    "\n",
    "X = music_dummies.drop('popularity', axis=1).values\n",
    "y = music_dummies['popularity'].values\n",
    "\n",
    "X_train, X_test, y_train, y_test = train_test_split(X,y, test_size=0.2, random_state=42)\n",
    "\n",
    "kf = KFold(n_splits=5, shuffle=True, random_state=42)\n",
    "linear_reg = LinearRegression()\n",
    "linear_reg = cross_val_score(linear_reg, X_train, y_train, cv=kf, scoring='neg_mean_squared_error')\n",
    "\n",
    "print(np.sqrt(-linear_reg))\n"
   ]
  },
  {
   "cell_type": "code",
   "execution_count": 3,
   "metadata": {},
   "outputs": [
    {
     "name": "stdout",
     "output_type": "stream",
     "text": [
      "genre                 8\n",
      "popularity           31\n",
      "loudness             44\n",
      "liveness             46\n",
      "tempo                46\n",
      "speechiness          59\n",
      "duration_ms          91\n",
      "instrumentalness     91\n",
      "danceability        143\n",
      "valence             143\n",
      "acousticness        200\n",
      "energy              200\n",
      "dtype: int64\n"
     ]
    }
   ],
   "source": [
    "music_df = pd.read_csv('music_unclean.csv', index_col=0)\n",
    "print(music_df.isna().sum().sort_values())"
   ]
  },
  {
   "cell_type": "code",
   "execution_count": 31,
   "metadata": {},
   "outputs": [
    {
     "name": "stdout",
     "output_type": "stream",
     "text": [
      "popularity            0\n",
      "liveness              0\n",
      "loudness              0\n",
      "tempo                 0\n",
      "genre                 0\n",
      "duration_ms          29\n",
      "instrumentalness     29\n",
      "speechiness          53\n",
      "danceability        127\n",
      "valence             127\n",
      "acousticness        178\n",
      "energy              178\n",
      "dtype: int64\n"
     ]
    }
   ],
   "source": [
    "music_df = music_df.dropna(subset=[\"genre\", \"popularity\", \"loudness\", \"liveness\", \"tempo\"])\n",
    "print(music_df.isna().sum().sort_values())"
   ]
  },
  {
   "cell_type": "code",
   "execution_count": null,
   "metadata": {},
   "outputs": [
    {
     "name": "stdout",
     "output_type": "stream",
     "text": [
      "popularity            0\n",
      "liveness              0\n",
      "loudness              0\n",
      "tempo                 0\n",
      "genre                 0\n",
      "duration_ms          29\n",
      "instrumentalness     29\n",
      "speechiness          53\n",
      "danceability        127\n",
      "valence             127\n",
      "acousticness        178\n",
      "energy              178\n",
      "dtype: int64\n",
      "Shape of the `music_df`: (892, 12)\n",
      "[[78 57]\n",
      " [55 78]]\n",
      "0.582089552238806\n"
     ]
    }
   ],
   "source": [
    "music_df = pd.read_csv('music_unclean.csv', index_col = 0)\n",
    "#print(music_df.isna().sum().sort_values())\n",
    "\n",
    "music_df = music_df.dropna(subset=[\"genre\", \"popularity\", \"loudness\", \"liveness\", \"tempo\"])\n",
    "\n",
    "print(music_df.isna().sum().sort_values())\n",
    "print(\"Shape of the `music_df`: {}\".format(music_df.shape))\n",
    "\n",
    "# Convert genre to a binary feature\n",
    "music_df[\"genre\"] = np.where(music_df[\"genre\"] == \"Rock\", 1, 0)\n",
    "\n",
    "X = music_df.drop('genre', axis = 1).values\n",
    "y = music_df['genre'].values\n",
    "\n",
    "X_train, X_test, y_train, y_test = train_test_split(X,y,test_size=0.3,random_state=42)\n",
    "# Instantiate an imputer\n",
    "imputer = SimpleImputer()\n",
    "X_train = imputer.fit_transform(X_train) ###################\n",
    "X_test = imputer.transform(X_test)          ###################\n",
    "\n",
    "# Instantiate a knn model\n",
    "knn = KNeighborsClassifier(n_neighbors=3)\n",
    "\n",
    "# Build steps for the pipeline\n",
    "steps = [(\"imputer\", imputer), \n",
    "        (\"knn\", knn)]\n",
    "\n",
    "# Create the pipeline\n",
    "pipeline = Pipeline(steps)\n",
    "\n",
    "# Fit the pipeline to the training data\n",
    "pipeline.fit(X_train, y_train)\n",
    "\n",
    "# Make predictions on the test set\n",
    "y_pred = pipeline.predict(X_test)\n",
    "\n",
    "# Print the confusion matrix\n",
    "\n",
    "print(confusion_matrix(y_test, y_pred))\n",
    "print(pipeline.score(X_test,y_test))"
   ]
  },
  {
   "cell_type": "code",
   "execution_count": null,
   "metadata": {},
   "outputs": [
    {
     "name": "stdout",
     "output_type": "stream",
     "text": [
      "acousticness        0\n",
      "danceability        0\n",
      "duration_ms         0\n",
      "energy              0\n",
      "instrumentalness    0\n",
      "liveness            0\n",
      "loudness            0\n",
      "speechiness         0\n",
      "tempo               0\n",
      "valence             0\n",
      "genre               0\n",
      "dtype: int64\n"
     ]
    }
   ],
   "source": [
    "#print(X_train.shape)\n",
    "columns = ['acousticness', 'danceability', 'duration_ms', 'energy',\n",
    "        'instrumentalness', 'liveness', 'loudness', 'speechiness', 'tempo',\n",
    "        'valence', 'genre']\n",
    "check = pd.DataFrame(X_train, columns = columns)\n",
    "print(check.isna().sum().sort_values())"
   ]
  },
  {
   "cell_type": "code",
   "execution_count": null,
   "metadata": {},
   "outputs": [
    {
     "name": "stdout",
     "output_type": "stream",
     "text": [
      "Confusion matrix: [[82 53]\n",
      " [72 61]]\n",
      "Knn Score: 0.5335820895522388\n"
     ]
    }
   ],
   "source": [
    "# Load dataset\n",
    "music_df = pd.read_csv(\"music_unclean.csv\", index_col=0)\n",
    "\n",
    "# Drop rows with missing values in critical columns\n",
    "music_df = music_df.dropna(subset=[\"genre\", \"popularity\", \"loudness\", \"liveness\", \"tempo\"])\n",
    "\n",
    "# Convert \"genre\" to binary (1 for Rock, 0 otherwise)\n",
    "music_df[\"genre\"] = np.where(music_df[\"genre\"] == \"Rock\", 1, 0)\n",
    "\n",
    "# Define X (features) and y (target)\n",
    "X = music_df.drop('genre', axis=1).values\n",
    "y = music_df['genre'].values\n",
    "\n",
    "X = music_df.drop('genre', axis = 1).values\n",
    "y = music_df['genre'].values\n",
    "\n",
    "X_train, X_test, y_train, y_test = train_test_split(X,y,test_size=0.3,random_state=42)\n",
    "\n",
    "# Instantiate an imputer\n",
    "imputer = SimpleImputer(strategy='mean')\n",
    "X_train = imputer.fit_transform(X_train)\n",
    "X_test = imputer.transform(X_test)\n",
    "\n",
    "# Instantiate a knn model\n",
    "knn = KNeighborsClassifier(n_neighbors=8)\n",
    "knn.fit(X_train, y_train)\n",
    "y_pred = knn.predict(X_test)\n",
    "\n",
    "print(\"Confusion matrix:\", confusion_matrix(y_test, y_pred))\n",
    "print(\"Knn Score:\", knn.score(X_test, y_test))"
   ]
  }
 ],
 "metadata": {
  "kernelspec": {
   "display_name": "myenv",
   "language": "python",
   "name": "python3"
  },
  "language_info": {
   "codemirror_mode": {
    "name": "ipython",
    "version": 3
   },
   "file_extension": ".py",
   "mimetype": "text/x-python",
   "name": "python",
   "nbconvert_exporter": "python",
   "pygments_lexer": "ipython3",
   "version": "3.13.0"
  }
 },
 "nbformat": 4,
 "nbformat_minor": 2
}
