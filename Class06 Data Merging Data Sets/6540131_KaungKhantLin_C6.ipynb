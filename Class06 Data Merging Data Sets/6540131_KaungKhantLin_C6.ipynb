{
 "cells": [
  {
   "cell_type": "code",
   "execution_count": 1,
   "metadata": {},
   "outputs": [],
   "source": [
    "import pandas as pd"
   ]
  },
  {
   "cell_type": "code",
   "execution_count": 2,
   "metadata": {},
   "outputs": [
    {
     "name": "stdout",
     "output_type": "stream",
     "text": [
      "   ward            alderman                          address    zip\n",
      "0     1  Proco \"Joe\" Moreno        2058 NORTH WESTERN AVENUE  60647\n",
      "1     2       Brian Hopkins       1400 NORTH  ASHLAND AVENUE  60622\n",
      "2     3          Pat Dowell          5046 SOUTH STATE STREET  60609\n",
      "3     4    William D. Burns  435 EAST 35TH STREET, 1ST FLOOR  60616\n",
      "4     5  Leslie A. Hairston            2325 EAST 71ST STREET  60649\n",
      "(50, 4)\n"
     ]
    }
   ],
   "source": [
    "wards = pd.read_csv('Wards_Offices.csv')\n",
    "print(wards.head())\n",
    "print(wards.shape)"
   ]
  },
  {
   "cell_type": "code",
   "execution_count": 3,
   "metadata": {},
   "outputs": [
    {
     "name": "stdout",
     "output_type": "stream",
     "text": [
      "   ward  pop_2000  pop_2010 change                                  address  \\\n",
      "0     1     52951     56149     6%              2765 WEST SAINT MARY STREET   \n",
      "1     2     54361     55805     3%                 WM WASTE MANAGEMENT 1500   \n",
      "2     3     40385     53039    31%                      17 EAST 38TH STREET   \n",
      "3     4     51953     54589     5%  31ST ST HARBOR BUILDING LAKEFRONT TRAIL   \n",
      "4     5     55302     51455    -7%  JACKSON PARK LAGOON SOUTH CORNELL DRIVE   \n",
      "\n",
      "     zip  \n",
      "0  60647  \n",
      "1  60622  \n",
      "2  60653  \n",
      "3  60653  \n",
      "4  60637  \n",
      "(50, 6)\n"
     ]
    }
   ],
   "source": [
    "census = pd.read_csv('Wards_Census.csv')\n",
    "print(census.head())\n",
    "print(census.shape)"
   ]
  },
  {
   "cell_type": "code",
   "execution_count": 4,
   "metadata": {},
   "outputs": [
    {
     "name": "stdout",
     "output_type": "stream",
     "text": [
      "   ward            alderman                     address_ward  zip_ward  \\\n",
      "0     1  Proco \"Joe\" Moreno        2058 NORTH WESTERN AVENUE     60647   \n",
      "1     2       Brian Hopkins       1400 NORTH  ASHLAND AVENUE     60622   \n",
      "2     3          Pat Dowell          5046 SOUTH STATE STREET     60609   \n",
      "3     4    William D. Burns  435 EAST 35TH STREET, 1ST FLOOR     60616   \n",
      "\n",
      "   pop_2000  pop_2010 change                              address_cen  zip_cen  \n",
      "0     52951     56149     6%              2765 WEST SAINT MARY STREET    60647  \n",
      "1     54361     55805     3%                 WM WASTE MANAGEMENT 1500    60622  \n",
      "2     40385     53039    31%                      17 EAST 38TH STREET    60653  \n",
      "3     51953     54589     5%  31ST ST HARBOR BUILDING LAKEFRONT TRAIL    60653  \n",
      "(50, 9)\n"
     ]
    }
   ],
   "source": [
    "wards_census = wards.merge(census, on='ward', suffixes=('_ward', '_cen'))\n",
    "print(wards_census.head(4))\n",
    "print(wards_census.shape)"
   ]
  },
  {
   "cell_type": "code",
   "execution_count": 5,
   "metadata": {},
   "outputs": [
    {
     "data": {
      "text/plain": [
       "Index(['ward', 'alderman', 'address_ward', 'zip_ward', 'pop_2000', 'pop_2010',\n",
       "       'change', 'address_cen', 'zip_cen'],\n",
       "      dtype='object')"
      ]
     },
     "execution_count": 5,
     "metadata": {},
     "output_type": "execute_result"
    }
   ],
   "source": [
    "wards_census.columns"
   ]
  },
  {
   "cell_type": "code",
   "execution_count": 6,
   "metadata": {},
   "outputs": [
    {
     "name": "stdout",
     "output_type": "stream",
     "text": [
      "     rid   vid           owner                 address    zip\n",
      "0  T6285  6285  AGEAN TAXI LLC     4536 N. ELSTON AVE.  60630\n",
      "1  T4862  4862    MANGIB CORP.  5717 N. WASHTENAW AVE.  60659\n",
      "2  T1495  1495   FUNRIDE, INC.     3351 W. ADDISON ST.  60618\n",
      "3  T4231  4231    ALQUSH CORP.   6611 N. CAMPBELL AVE.  60645\n",
      "4  T5971  5971  EUNIFFORD INC.     3351 W. ADDISON ST.  60618\n",
      "(3519, 5)\n",
      "    vid    make   model  year fuel_type                owner\n",
      "0  2767  TOYOTA   CAMRY  2013    HYBRID       SEYED M. BADRI\n",
      "1  1411  TOYOTA    RAV4  2017    HYBRID          DESZY CORP.\n",
      "2  6500  NISSAN  SENTRA  2019  GASOLINE       AGAPH CAB CORP\n",
      "3  2746  TOYOTA   CAMRY  2013    HYBRID  MIDWEST CAB CO, INC\n",
      "4  5922  TOYOTA   CAMRY  2013    HYBRID       SUMETTI CAB CO\n",
      "(3519, 6)\n"
     ]
    }
   ],
   "source": [
    "taxi_owners = pd.read_pickle('taxi_owners.p')\n",
    "taxi_vehicles = pd.read_pickle('taxi_vehicles.p')\n",
    "print(taxi_owners.head())\n",
    "print(taxi_owners.shape)\n",
    "print(taxi_vehicles.head())\n",
    "print(taxi_vehicles.shape)\n"
   ]
  },
  {
   "cell_type": "code",
   "execution_count": 7,
   "metadata": {},
   "outputs": [
    {
     "name": "stdout",
     "output_type": "stream",
     "text": [
      "(3519, 10)\n",
      "Index(['rid', 'vid', 'owner_own', 'address', 'zip', 'make', 'model', 'year',\n",
      "       'fuel_type', 'owner_veh'],\n",
      "      dtype='object')\n"
     ]
    }
   ],
   "source": [
    "taxi_own_veh = taxi_owners.merge(taxi_vehicles, on='vid', suffixes=('_own', '_veh'))\n",
    "print(taxi_own_veh.shape)\n",
    "print(taxi_own_veh.columns)"
   ]
  },
  {
   "cell_type": "code",
   "execution_count": 8,
   "metadata": {},
   "outputs": [
    {
     "name": "stdout",
     "output_type": "stream",
     "text": [
      "fuel_type\n",
      "HYBRID                    2792\n",
      "GASOLINE                   611\n",
      "FLEX FUEL                   89\n",
      "COMPRESSED NATURAL GAS      27\n",
      "Name: count, dtype: int64\n"
     ]
    }
   ],
   "source": [
    "print(taxi_own_veh['fuel_type'].value_counts())"
   ]
  },
  {
   "cell_type": "code",
   "execution_count": 9,
   "metadata": {},
   "outputs": [
    {
     "name": "stdout",
     "output_type": "stream",
     "text": [
      "fuel_type\n",
      "HYBRID                    2792\n",
      "GASOLINE                   611\n",
      "FLEX FUEL                   89\n",
      "COMPRESSED NATURAL GAS      27\n",
      "Name: count, dtype: int64\n"
     ]
    }
   ],
   "source": [
    "print(taxi_own_veh.value_counts('fuel_type'))"
   ]
  },
  {
   "cell_type": "code",
   "execution_count": 10,
   "metadata": {},
   "outputs": [
    {
     "name": "stdout",
     "output_type": "stream",
     "text": [
      "(46, 4)\n"
     ]
    }
   ],
   "source": [
    "wards_altered = pd.read_csv('Wards_Offices_Altered.csv')\n",
    "print(wards_altered.shape)"
   ]
  },
  {
   "cell_type": "code",
   "execution_count": 11,
   "metadata": {},
   "outputs": [
    {
     "name": "stdout",
     "output_type": "stream",
     "text": [
      "Index(['ward', 'alderman', 'address_ward', 'zip_ward', 'pop_2000', 'pop_2010',\n",
      "       'change', 'address_cen', 'zip_cen'],\n",
      "      dtype='object')\n",
      "(46, 9)\n"
     ]
    }
   ],
   "source": [
    "wards_census_altered = wards_altered.merge(census, on='ward', suffixes=('_ward', '_cen'))\n",
    "print(wards_census_altered.columns)\n",
    "print(wards_census_altered.shape)"
   ]
  },
  {
   "cell_type": "code",
   "execution_count": 12,
   "metadata": {},
   "outputs": [
    {
     "name": "stdout",
     "output_type": "stream",
     "text": [
      "(10000, 6)\n"
     ]
    },
    {
     "data": {
      "text/html": [
       "<div>\n",
       "<style scoped>\n",
       "    .dataframe tbody tr th:only-of-type {\n",
       "        vertical-align: middle;\n",
       "    }\n",
       "\n",
       "    .dataframe tbody tr th {\n",
       "        vertical-align: top;\n",
       "    }\n",
       "\n",
       "    .dataframe thead th {\n",
       "        text-align: right;\n",
       "    }\n",
       "</style>\n",
       "<table border=\"1\" class=\"dataframe\">\n",
       "  <thead>\n",
       "    <tr style=\"text-align: right;\">\n",
       "      <th></th>\n",
       "      <th>account</th>\n",
       "      <th>ward</th>\n",
       "      <th>aid</th>\n",
       "      <th>business</th>\n",
       "      <th>address</th>\n",
       "      <th>zip</th>\n",
       "    </tr>\n",
       "  </thead>\n",
       "  <tbody>\n",
       "    <tr>\n",
       "      <th>0</th>\n",
       "      <td>307071</td>\n",
       "      <td>3</td>\n",
       "      <td>743</td>\n",
       "      <td>REGGIE'S BAR &amp; GRILL</td>\n",
       "      <td>2105 S STATE ST</td>\n",
       "      <td>60616.0</td>\n",
       "    </tr>\n",
       "    <tr>\n",
       "      <th>1</th>\n",
       "      <td>10</td>\n",
       "      <td>10</td>\n",
       "      <td>829</td>\n",
       "      <td>HONEYBEERS</td>\n",
       "      <td>13200 S HOUSTON AVE</td>\n",
       "      <td>60633.0</td>\n",
       "    </tr>\n",
       "    <tr>\n",
       "      <th>2</th>\n",
       "      <td>10002</td>\n",
       "      <td>14</td>\n",
       "      <td>775</td>\n",
       "      <td>CELINA DELI</td>\n",
       "      <td>5089 S ARCHER AVE</td>\n",
       "      <td>60632.0</td>\n",
       "    </tr>\n",
       "    <tr>\n",
       "      <th>3</th>\n",
       "      <td>10005</td>\n",
       "      <td>12</td>\n",
       "      <td>NaN</td>\n",
       "      <td>KRAFT FOODS NORTH AMERICA</td>\n",
       "      <td>2005 W 43RD ST</td>\n",
       "      <td>60609.0</td>\n",
       "    </tr>\n",
       "    <tr>\n",
       "      <th>4</th>\n",
       "      <td>10044</td>\n",
       "      <td>44</td>\n",
       "      <td>638</td>\n",
       "      <td>NEYBOUR'S TAVERN &amp; GRILLE</td>\n",
       "      <td>3651 N SOUTHPORT AVE</td>\n",
       "      <td>60613.0</td>\n",
       "    </tr>\n",
       "  </tbody>\n",
       "</table>\n",
       "</div>"
      ],
      "text/plain": [
       "   account  ward  aid                   business               address  \\\n",
       "0   307071     3  743       REGGIE'S BAR & GRILL       2105 S STATE ST   \n",
       "1       10    10  829                 HONEYBEERS   13200 S HOUSTON AVE   \n",
       "2    10002    14  775                CELINA DELI     5089 S ARCHER AVE   \n",
       "3    10005    12  NaN  KRAFT FOODS NORTH AMERICA        2005 W 43RD ST   \n",
       "4    10044    44  638  NEYBOUR'S TAVERN & GRILLE  3651 N SOUTHPORT AVE   \n",
       "\n",
       "       zip  \n",
       "0  60616.0  \n",
       "1  60633.0  \n",
       "2  60632.0  \n",
       "3  60609.0  \n",
       "4  60613.0  "
      ]
     },
     "metadata": {},
     "output_type": "display_data"
    },
    {
     "data": {
      "text/plain": [
       "Index(['account', 'ward', 'aid', 'business', 'address', 'zip'], dtype='object')"
      ]
     },
     "metadata": {},
     "output_type": "display_data"
    }
   ],
   "source": [
    "licenses = pd.read_csv('Business_Licenses.csv')\n",
    "print(licenses.shape)\n",
    "display(licenses.head())\n",
    "display(licenses.columns)"
   ]
  },
  {
   "cell_type": "code",
   "execution_count": 13,
   "metadata": {},
   "outputs": [
    {
     "data": {
      "text/html": [
       "<div>\n",
       "<style scoped>\n",
       "    .dataframe tbody tr th:only-of-type {\n",
       "        vertical-align: middle;\n",
       "    }\n",
       "\n",
       "    .dataframe tbody tr th {\n",
       "        vertical-align: top;\n",
       "    }\n",
       "\n",
       "    .dataframe thead th {\n",
       "        text-align: right;\n",
       "    }\n",
       "</style>\n",
       "<table border=\"1\" class=\"dataframe\">\n",
       "  <thead>\n",
       "    <tr style=\"text-align: right;\">\n",
       "      <th></th>\n",
       "      <th>ward</th>\n",
       "      <th>alderman</th>\n",
       "      <th>address_ward</th>\n",
       "      <th>zip_ward</th>\n",
       "      <th>account</th>\n",
       "      <th>aid</th>\n",
       "      <th>business</th>\n",
       "      <th>address_lic</th>\n",
       "      <th>zip_lic</th>\n",
       "    </tr>\n",
       "  </thead>\n",
       "  <tbody>\n",
       "    <tr>\n",
       "      <th>0</th>\n",
       "      <td>1</td>\n",
       "      <td>Proco \"Joe\" Moreno</td>\n",
       "      <td>2058 NORTH WESTERN AVENUE</td>\n",
       "      <td>60647</td>\n",
       "      <td>12024</td>\n",
       "      <td>NaN</td>\n",
       "      <td>DIGILOG ELECTRONICS</td>\n",
       "      <td>1038 N ASHLAND AVE</td>\n",
       "      <td>60622.0</td>\n",
       "    </tr>\n",
       "    <tr>\n",
       "      <th>1</th>\n",
       "      <td>1</td>\n",
       "      <td>Proco \"Joe\" Moreno</td>\n",
       "      <td>2058 NORTH WESTERN AVENUE</td>\n",
       "      <td>60647</td>\n",
       "      <td>14446</td>\n",
       "      <td>743</td>\n",
       "      <td>EMPTY BOTTLE INC</td>\n",
       "      <td>1035 N WESTERN AVE 1ST</td>\n",
       "      <td>60622.0</td>\n",
       "    </tr>\n",
       "    <tr>\n",
       "      <th>2</th>\n",
       "      <td>1</td>\n",
       "      <td>Proco \"Joe\" Moreno</td>\n",
       "      <td>2058 NORTH WESTERN AVENUE</td>\n",
       "      <td>60647</td>\n",
       "      <td>14624</td>\n",
       "      <td>775</td>\n",
       "      <td>LITTLE MEL'S HOT DOG</td>\n",
       "      <td>2205 N CALIFORNIA AVE</td>\n",
       "      <td>60647.0</td>\n",
       "    </tr>\n",
       "    <tr>\n",
       "      <th>3</th>\n",
       "      <td>1</td>\n",
       "      <td>Proco \"Joe\" Moreno</td>\n",
       "      <td>2058 NORTH WESTERN AVENUE</td>\n",
       "      <td>60647</td>\n",
       "      <td>14987</td>\n",
       "      <td>NaN</td>\n",
       "      <td>MR. BROWN'S LOUNGE</td>\n",
       "      <td>2301 W CHICAGO AVE 1ST</td>\n",
       "      <td>60622.0</td>\n",
       "    </tr>\n",
       "    <tr>\n",
       "      <th>4</th>\n",
       "      <td>1</td>\n",
       "      <td>Proco \"Joe\" Moreno</td>\n",
       "      <td>2058 NORTH WESTERN AVENUE</td>\n",
       "      <td>60647</td>\n",
       "      <td>15642</td>\n",
       "      <td>814</td>\n",
       "      <td>Beat Kitchen</td>\n",
       "      <td>2000-2100 W DIVISION ST</td>\n",
       "      <td>60622.0</td>\n",
       "    </tr>\n",
       "  </tbody>\n",
       "</table>\n",
       "</div>"
      ],
      "text/plain": [
       "   ward            alderman               address_ward  zip_ward  account  \\\n",
       "0     1  Proco \"Joe\" Moreno  2058 NORTH WESTERN AVENUE     60647    12024   \n",
       "1     1  Proco \"Joe\" Moreno  2058 NORTH WESTERN AVENUE     60647    14446   \n",
       "2     1  Proco \"Joe\" Moreno  2058 NORTH WESTERN AVENUE     60647    14624   \n",
       "3     1  Proco \"Joe\" Moreno  2058 NORTH WESTERN AVENUE     60647    14987   \n",
       "4     1  Proco \"Joe\" Moreno  2058 NORTH WESTERN AVENUE     60647    15642   \n",
       "\n",
       "   aid              business              address_lic  zip_lic  \n",
       "0  NaN   DIGILOG ELECTRONICS       1038 N ASHLAND AVE  60622.0  \n",
       "1  743      EMPTY BOTTLE INC   1035 N WESTERN AVE 1ST  60622.0  \n",
       "2  775  LITTLE MEL'S HOT DOG    2205 N CALIFORNIA AVE  60647.0  \n",
       "3  NaN    MR. BROWN'S LOUNGE   2301 W CHICAGO AVE 1ST  60622.0  \n",
       "4  814          Beat Kitchen  2000-2100 W DIVISION ST  60622.0  "
      ]
     },
     "metadata": {},
     "output_type": "display_data"
    },
    {
     "data": {
      "text/plain": [
       "Index(['ward', 'alderman', 'address_ward', 'zip_ward', 'account', 'aid',\n",
       "       'business', 'address_lic', 'zip_lic'],\n",
       "      dtype='object')"
      ]
     },
     "metadata": {},
     "output_type": "display_data"
    }
   ],
   "source": [
    "ward_licenses = wards.merge(licenses, on='ward', suffixes=('_ward', '_lic'))\n",
    "display(ward_licenses.head())\n",
    "display(ward_licenses.columns)"
   ]
  },
  {
   "cell_type": "code",
   "execution_count": 14,
   "metadata": {},
   "outputs": [
    {
     "name": "stdout",
     "output_type": "stream",
     "text": [
      "(50, 4)\n",
      "(10000, 9)\n"
     ]
    }
   ],
   "source": [
    "print(wards.shape)\n",
    "print(ward_licenses.shape)"
   ]
  },
  {
   "cell_type": "code",
   "execution_count": 15,
   "metadata": {},
   "outputs": [
    {
     "name": "stdout",
     "output_type": "stream",
     "text": [
      "Index(['account', 'first_name', 'last_name', 'title'], dtype='object')\n",
      "(21352, 4)\n",
      "Index(['account', 'ward', 'aid', 'business', 'address', 'zip'], dtype='object')\n",
      "(10000, 6)\n"
     ]
    }
   ],
   "source": [
    "biz_owners = pd.read_pickle('business_owners.p')\n",
    "licenses = pd.read_pickle('licenses.p')\n",
    "\n",
    "print(biz_owners.columns)\n",
    "print(biz_owners.shape)\n",
    "print(licenses.columns)\n",
    "print(licenses.shape)\n"
   ]
  },
  {
   "cell_type": "code",
   "execution_count": 16,
   "metadata": {},
   "outputs": [
    {
     "name": "stdout",
     "output_type": "stream",
     "text": [
      "                 account\n",
      "title                   \n",
      "PRESIDENT           6259\n",
      "SECRETARY           5205\n",
      "SOLE PROPRIETOR     1658\n",
      "OTHER               1200\n",
      "VICE PRESIDENT       970\n"
     ]
    }
   ],
   "source": [
    "licenses_owners = licenses.merge(biz_owners, on='account')\n",
    "\n",
    "counted_df = licenses_owners.groupby('title').agg({'account': 'count'})\n",
    "\n",
    "sorted_df = counted_df.sort_values('account', ascending=False)\n",
    "\n",
    "print(sorted_df.head())\n"
   ]
  },
  {
   "cell_type": "code",
   "execution_count": 17,
   "metadata": {},
   "outputs": [
    {
     "name": "stdout",
     "output_type": "stream",
     "text": [
      "  account ward  aid                   business               address    zip\n",
      "0  307071    3  743       REGGIE'S BAR & GRILL       2105 S STATE ST  60616\n",
      "1      10   10  829                 HONEYBEERS   13200 S HOUSTON AVE  60633\n",
      "2   10002   14  775                CELINA DELI     5089 S ARCHER AVE  60632\n",
      "3   10005   12  NaN  KRAFT FOODS NORTH AMERICA        2005 W 43RD ST  60609\n",
      "4   10044   44  638  NEYBOUR'S TAVERN & GRILLE  3651 N SOUTHPORT AVE  60613\n",
      "-----------------------------------------\n",
      "   ward            alderman                          address    zip\n",
      "0     1  Proco \"Joe\" Moreno        2058 NORTH WESTERN AVENUE  60647\n",
      "1     2       Brian Hopkins       1400 NORTH  ASHLAND AVENUE  60622\n",
      "2     3          Pat Dowell          5046 SOUTH STATE STREET  60609\n",
      "3     4    William D. Burns  435 EAST 35TH STREET, 1ST FLOOR  60616\n",
      "4     5  Leslie A. Hairston            2325 EAST 71ST STREET  60649\n"
     ]
    }
   ],
   "source": [
    "print(licenses.head())\n",
    "print(\"-----------------------------------------\")\n",
    "print(wards.head())"
   ]
  },
  {
   "cell_type": "code",
   "execution_count": 18,
   "metadata": {},
   "outputs": [
    {
     "name": "stdout",
     "output_type": "stream",
     "text": [
      "Total rides provided at Wilson station on weekdays in July: 140005\n"
     ]
    }
   ],
   "source": [
    "# Step 1: Load the data\n",
    "cal = pd.read_pickle('cta_calendar.p')\n",
    "ridership = pd.read_pickle('cta_ridership.p')\n",
    "stations = pd.read_pickle('stations.p')\n",
    "\n",
    "# Step 1: Merge ridership with cal on year, month, day\n",
    "# ridership_cal = ridership.merge(cal, on=['year', 'month', 'day'], how='left')\n",
    "ridership_cal = ridership.merge(cal)\n",
    "\n",
    "# Step 2: Merge with stations on station_id\n",
    "# merged_df = ridership_cal.merge(stations, on='station_id', how='left')\n",
    "merged_df = ridership.merge(cal, on=['year', 'month', 'day']) \\\n",
    "                        .merge(stations, on='station_id')\n",
    "\n",
    "# Step 3: Filter criteria: Wilson station, weekdays in July\n",
    "filter_criteria = (\n",
    "    (merged_df['station_name'] == 'Wilson') &\n",
    "    (merged_df['day_type'] == 'Weekday') &\n",
    "    (merged_df['month'] == 7)\n",
    ")\n",
    "\n",
    "# Step 4: Sum the rides column\n",
    "total_rides = merged_df.loc[filter_criteria, 'rides'].sum()\n",
    "\n",
    "print(\"Total rides provided at Wilson station on weekdays in July:\", total_rides)\n",
    "\n"
   ]
  },
  {
   "cell_type": "code",
   "execution_count": 19,
   "metadata": {},
   "outputs": [
    {
     "name": "stdout",
     "output_type": "stream",
     "text": [
      "Index(['account', 'ward', 'aid', 'business', 'address', 'zip'], dtype='object')\n",
      "Index(['ward', 'alderman', 'address', 'zip'], dtype='object')\n",
      "Index(['zip', 'income'], dtype='object')\n"
     ]
    }
   ],
   "source": [
    "# Step 1: Load the data\n",
    "licenses = pd.read_pickle('licenses.p')\n",
    "wards = pd.read_pickle('ward.p')\n",
    "zip_demo = pd.read_pickle('zip_demo.p')\n",
    "print(licenses.columns)\n",
    "print(wards.columns)\n",
    "print(zip_demo.columns)"
   ]
  },
  {
   "cell_type": "code",
   "execution_count": 20,
   "metadata": {},
   "outputs": [
    {
     "name": "stdout",
     "output_type": "stream",
     "text": [
      "                             income\n",
      "alderman                           \n",
      "Ameya Pawar                 66246.0\n",
      "Anthony A. Beale            38206.0\n",
      "Anthony V. Napolitano       82226.0\n",
      "Ariel E. Reyboras           41307.0\n",
      "Brendan Reilly             110215.0\n",
      "Brian Hopkins               87143.0\n",
      "Carlos Ramirez-Rosa         66246.0\n",
      "Carrie M. Austin            38206.0\n",
      "Chris Taliaferro            55566.0\n",
      "Daniel \"Danny\" Solis        41226.0\n",
      "David H. Moore              33304.0\n",
      "Deborah Mell                66246.0\n",
      "Debra L. Silverstein        50554.0\n",
      "Derrick G. Curtis           65770.0\n",
      "Edward M. Burke             42335.0\n",
      "Emma M. Mitts               36283.0\n",
      "George Cardenas             33959.0\n",
      "Gilbert Villegas            41307.0\n",
      "Gregory I. Mitchell         24941.0\n",
      "Harry Osterman              45442.0\n",
      "Howard B. Brookins, Jr.     33304.0\n",
      "James Cappleman             79565.0\n",
      "Jason C. Ervin              41226.0\n",
      "Joe Moore                   39163.0\n",
      "John S. Arena               70122.0\n",
      "Leslie A. Hairston          28024.0\n",
      "Margaret Laurino            70122.0\n",
      "Marty Quinn                 67045.0\n",
      "Matthew J. O'Shea           59488.0\n",
      "Michael R. Zalewski         42335.0\n",
      "Michael Scott, Jr.          31445.0\n",
      "Michelle A. Harris          32558.0\n",
      "Michelle Smith             100116.0\n",
      "Milagros \"Milly\" Santiago   41307.0\n",
      "Nicholas Sposato            62223.0\n",
      "Pat Dowell                  46340.0\n",
      "Patrick Daley Thompson      41226.0\n",
      "Patrick J. O'Connor         50554.0\n",
      "Proco \"Joe\" Moreno          87143.0\n",
      "Raymond A. Lopez            33959.0\n",
      "Ricardo Munoz               31445.0\n",
      "Roberto Maldonado           68223.0\n",
      "Roderick T. Sawyer          32558.0\n",
      "Scott Waguespack            68223.0\n",
      "Susan Sadlowski Garza       38417.0\n",
      "Tom Tunney                  88708.0\n",
      "Toni L. Foulkes             27573.0\n",
      "Walter Burnett, Jr.         87143.0\n",
      "William D. Burns           107811.0\n",
      "Willie B. Cochran           28024.0\n"
     ]
    }
   ],
   "source": [
    "# Step 1: merge the three tables with KEY columns\n",
    "licenses_zip_ward = licenses.merge(zip_demo, on='zip') \\\n",
    "                        .merge(wards, on='ward')\n",
    "\n",
    "# Step 2: Group by 'alderman' and calculate the median income\n",
    "median_income_by_alderman = licenses_zip_ward.groupby('alderman').agg({'income': 'median'})\n",
    "\n",
    "# Display the result\n",
    "print(median_income_by_alderman)"
   ]
  },
  {
   "cell_type": "code",
   "execution_count": 21,
   "metadata": {},
   "outputs": [
    {
     "name": "stdout",
     "output_type": "stream",
     "text": [
      "      id                 title  popularity release_date\n",
      "0    257          Oliver Twist   20.415572    23/9/2005\n",
      "1  14290  Better Luck Tomorrow    3.877036    12/1/2002\n",
      "2  38365             Grown Ups   38.864027    24/6/2010\n",
      "3   9672              Infamous    3.680896   16/11/2006\n",
      "4  12819       Alpha and Omega   12.300789    17/9/2010\n",
      "(4803, 4)\n"
     ]
    }
   ],
   "source": [
    "movies = pd.read_csv('tmdb_movies.csv')\n",
    "print(movies.head())\n",
    "print(movies.shape)"
   ]
  },
  {
   "cell_type": "code",
   "execution_count": 22,
   "metadata": {},
   "outputs": [
    {
     "name": "stdout",
     "output_type": "stream",
     "text": [
      "       id                                         tagline\n",
      "0   19995                     Enter the World of Pandora.\n",
      "1     285  At the end of the world, the adventure begins.\n",
      "2  206647                           A Plan No One Escapes\n",
      "3   49026                                 The Legend Ends\n",
      "4   49529            Lost in our world, found in another.\n",
      "(3955, 2)\n"
     ]
    }
   ],
   "source": [
    "tagLines = pd.read_csv('tmdb_taglines.csv')\n",
    "print(tagLines.head())\n",
    "print(tagLines.shape)"
   ]
  },
  {
   "cell_type": "code",
   "execution_count": 23,
   "metadata": {},
   "outputs": [
    {
     "name": "stdout",
     "output_type": "stream",
     "text": [
      "      id                 title  popularity release_date  \\\n",
      "0    257          Oliver Twist   20.415572    23/9/2005   \n",
      "1  14290  Better Luck Tomorrow    3.877036    12/1/2002   \n",
      "2  38365             Grown Ups   38.864027    24/6/2010   \n",
      "3   9672              Infamous    3.680896   16/11/2006   \n",
      "4  12819       Alpha and Omega   12.300789    17/9/2010   \n",
      "\n",
      "                                           tagline  \n",
      "0                                              NaN  \n",
      "1             Never underestimate an overachiever.  \n",
      "2  Boys will be boys. . . some longer than others.  \n",
      "3          There's more to the story than you know  \n",
      "4                           A Pawsome 3D Adventure  \n"
     ]
    }
   ],
   "source": [
    "movies_tagLines = movies.merge(tagLines, on='id', how='left')\n",
    "print(movies_tagLines.head())"
   ]
  },
  {
   "cell_type": "code",
   "execution_count": 24,
   "metadata": {},
   "outputs": [
    {
     "name": "stdout",
     "output_type": "stream",
     "text": [
      "Index(['id', 'title', 'popularity', 'release_date'], dtype='object')\n",
      "Index(['id', 'budget', 'revenue'], dtype='object')\n"
     ]
    }
   ],
   "source": [
    "# Step 1: Load the data\n",
    "movies = pd.read_pickle('movies.p')\n",
    "financials = pd.read_pickle('financials.p')\n",
    "\n",
    "print(movies.columns)\n",
    "print(financials.columns)"
   ]
  },
  {
   "cell_type": "code",
   "execution_count": 25,
   "metadata": {},
   "outputs": [
    {
     "name": "stdout",
     "output_type": "stream",
     "text": [
      "Number of movies with missing budget data: 1574\n"
     ]
    }
   ],
   "source": [
    "# Step 2: Merge the tables with a left join on 'id'\n",
    "movies_financials = movies.merge(financials, on='id', how='left')\n",
    "\n",
    "# Step 3: Count rows with null values in the 'budget' column\n",
    "missing_budget_count = movies_financials['budget'].isnull().sum()\n",
    "\n",
    "# Step 4: Display the result\n",
    "print(\"Number of movies with missing budget data:\", missing_budget_count)"
   ]
  },
  {
   "cell_type": "code",
   "execution_count": 26,
   "metadata": {},
   "outputs": [
    {
     "name": "stdout",
     "output_type": "stream",
     "text": [
      "Left Join Result:\n",
      "      id        title  popularity release_date                   tagline\n",
      "0  10193  Toy Story 3      59.995    16/6/2010  No toy gets left behind.\n",
      "1    863  Toy Story 2      73.575   30/10/1999        The toys are back!\n",
      "2    862    Toy Story      73.640   30/10/1995                       NaN\n",
      "(3, 5)\n",
      "\n",
      "Inner Join Result:\n",
      "      id        title  popularity release_date                   tagline\n",
      "0  10193  Toy Story 3      59.995    16/6/2010  No toy gets left behind.\n",
      "1    863  Toy Story 2      73.575   30/10/1999        The toys are back!\n",
      "(2, 5)\n",
      "\n",
      "Number of rows (Left Join): 3\n",
      "Number of rows (Inner Join): 2\n"
     ]
    }
   ],
   "source": [
    "# Step 1: Load the data\n",
    "toy_story = pd.read_csv('toy_story.csv')  # Toy Story movie data\n",
    "taglines = pd.read_pickle('taglines.p')   # Taglines data\n",
    "\n",
    "# Step 2: Perform a left join\n",
    "toystory_tag_left = toy_story.merge(taglines, on='id', how='left')\n",
    "\n",
    "# Print results for the left join\n",
    "print(\"Left Join Result:\")\n",
    "print(toystory_tag_left)\n",
    "print(toystory_tag_left.shape)\n",
    "\n",
    "# Step 3: Perform an inner join\n",
    "toystory_tag_inner = toy_story.merge(taglines, on='id')\n",
    "\n",
    "# Print results for the inner join\n",
    "print(\"\\nInner Join Result:\")\n",
    "print(toystory_tag_inner)\n",
    "print(toystory_tag_inner.shape)\n",
    "\n",
    "# Step 4: Observe the differences\n",
    "print(\"\\nNumber of rows (Left Join):\", len(toystory_tag_left))\n",
    "print(\"Number of rows (Inner Join):\", len(toystory_tag_inner))\n"
   ]
  },
  {
   "cell_type": "code",
   "execution_count": 27,
   "metadata": {},
   "outputs": [
    {
     "name": "stdout",
     "output_type": "stream",
     "text": [
      "       movie_id     genre\n",
      "4998      10947  TV Movie\n",
      "5994      13187  TV Movie\n",
      "7443      22488  TV Movie\n",
      "10061     78814  TV Movie\n",
      "10790    153397  TV Movie\n",
      "10835    158150  TV Movie\n",
      "11096    205321  TV Movie\n",
      "11282    231617  TV Movie\n"
     ]
    }
   ],
   "source": [
    "movie_to_genres = pd.read_csv('tdmb_movie_to_genres.csv')\n",
    "tv_genre = movie_to_genres[movie_to_genres['genre'] == 'TV Movie']\n",
    "print(tv_genre)"
   ]
  },
  {
   "cell_type": "code",
   "execution_count": 28,
   "metadata": {},
   "outputs": [
    {
     "name": "stdout",
     "output_type": "stream",
     "text": [
      "       id                      title  popularity release_date  movie_id  \\\n",
      "0   10947        High School Musical   16.536374   2006-01-20     10947   \n",
      "1   13187  A Charlie Brown Christmas    8.701183   1965-12-09     13187   \n",
      "2   22488         Love's Abiding Joy    1.128559   2006-10-06     22488   \n",
      "3   78814       We Have Your Husband    0.102003   2011-11-12     78814   \n",
      "4  153397                   Restless    0.812776   2012-12-07    153397   \n",
      "\n",
      "      genre  \n",
      "0  TV Movie  \n",
      "1  TV Movie  \n",
      "2  TV Movie  \n",
      "3  TV Movie  \n",
      "4  TV Movie  \n"
     ]
    }
   ],
   "source": [
    "tv_movies = movies.merge(tv_genre, how='right', left_on='id', right_on='movie_id')\n",
    "print(tv_movies.head())"
   ]
  },
  {
   "cell_type": "code",
   "execution_count": 29,
   "metadata": {},
   "outputs": [],
   "source": [
    "# Load the movies and genres data\n",
    "movies = pd.read_pickle('movies.p')\n",
    "movie_to_genres = pd.read_csv('tdmb_movie_to_genres.csv')\n",
    "\n",
    "# Subset 'Science Fiction' movies\n",
    "m = movie_to_genres['genre'] == 'Science Fiction'\n",
    "scifi_movies = movie_to_genres[m]\n",
    "\n",
    "# Subset 'Action' movies\n",
    "m = movie_to_genres['genre'] == 'Action'\n",
    "action_movies = movie_to_genres[m]\n"
   ]
  },
  {
   "cell_type": "code",
   "execution_count": 30,
   "metadata": {},
   "outputs": [
    {
     "name": "stdout",
     "output_type": "stream",
     "text": [
      "   movie_id genre_act        genre_sci\n",
      "0        11    Action  Science Fiction\n",
      "1        18    Action  Science Fiction\n",
      "2        19       NaN  Science Fiction\n",
      "3        38       NaN  Science Fiction\n",
      "4        62       NaN  Science Fiction\n"
     ]
    }
   ],
   "source": [
    "# Merge action_movies and scifi_movies with a right join\n",
    "action_scifi = action_movies.merge(scifi_movies, on='movie_id', how='right', suffixes=('_act', '_sci'))\n",
    "\n",
    "# Print the resulting DataFrame to check\n",
    "print(action_scifi.head())"
   ]
  },
  {
   "cell_type": "code",
   "execution_count": 31,
   "metadata": {},
   "outputs": [
    {
     "name": "stdout",
     "output_type": "stream",
     "text": [
      "   movie_id genre_act        genre_sci\n",
      "2        19       NaN  Science Fiction\n",
      "3        38       NaN  Science Fiction\n",
      "4        62       NaN  Science Fiction\n",
      "5        68       NaN  Science Fiction\n",
      "6        74       NaN  Science Fiction\n"
     ]
    }
   ],
   "source": [
    "# Subset rows where genre_act is null (only sci-fi movies)\n",
    "scifi_only = action_scifi[action_scifi['genre_act'].isnull()]\n",
    "\n",
    "# Print to verify the result\n",
    "print(scifi_only.head())"
   ]
  },
  {
   "cell_type": "code",
   "execution_count": 32,
   "metadata": {},
   "outputs": [
    {
     "name": "stdout",
     "output_type": "stream",
     "text": [
      "      id                         title  popularity release_date  movie_id  \\\n",
      "0  18841  The Lost Skeleton of Cadavra    1.680525   2001-09-12     18841   \n",
      "1  26672     The Thief and the Cobbler    2.439184   1993-09-23     26672   \n",
      "2  15301      Twilight Zone: The Movie   12.902975   1983-06-24     15301   \n",
      "3   8452                   The 6th Day   18.447479   2000-11-17      8452   \n",
      "4   1649    Bill & Ted's Bogus Journey   11.349664   1991-07-19      1649   \n",
      "\n",
      "  genre_act        genre_sci  \n",
      "0       NaN  Science Fiction  \n",
      "1       NaN  Science Fiction  \n",
      "2       NaN  Science Fiction  \n",
      "3       NaN  Science Fiction  \n",
      "4       NaN  Science Fiction  \n"
     ]
    }
   ],
   "source": [
    "# Merge movies with scifi_only using an inner join\n",
    "unique_scifi_movies = movies.merge(scifi_only, left_on='id', right_on='movie_id', how='inner')\n",
    "\n",
    "# Print the final result to see the movie names\n",
    "print(unique_scifi_movies.head())"
   ]
  },
  {
   "cell_type": "code",
   "execution_count": 33,
   "metadata": {},
   "outputs": [
    {
     "data": {
      "image/png": "[encoded data removed]",
      "text/plain": [
       "<Figure size 640x480 with 1 Axes>"
      ]
     },
     "metadata": {},
     "output_type": "display_data"
    },
    {
     "name": "stdout",
     "output_type": "stream",
     "text": [
      "                 id\n",
      "genre              \n",
      "Action            7\n",
      "Adventure         9\n",
      "Animation         2\n",
      "Comedy            3\n",
      "Drama             2\n",
      "Family            2\n",
      "Fantasy           1\n",
      "Science Fiction   6\n",
      "Thriller          4\n"
     ]
    }
   ],
   "source": [
    "import matplotlib.pyplot as plt\n",
    "\n",
    "# Load the data\n",
    "pop_movies = pd.read_csv('pop_movies.csv')\n",
    "movie_to_genres = pd.read_csv('tdmb_movie_to_genres.csv')\n",
    "\n",
    "# Perform right join of movie_to_genres and pop_movies\n",
    "genres_movies = pd.merge(movie_to_genres, pop_movies, left_on='movie_id', right_on='id', how='right')\n",
    "\n",
    "# Group by genre and count the number of movies\n",
    "# genre_counts = genres_movies.groupby('genre')['id'].count()\n",
    "genre_counts = genres_movies.groupby('genre').agg({'id':'count'})\n",
    "\n",
    "# Create a bar plot\n",
    "genre_counts.plot(kind='bar', label='id')\n",
    "plt.title('Number of Popular Movies by Genre')\n",
    "plt.xlabel('Genre')\n",
    "plt.ylabel('Number of Movies')\n",
    "plt.legend()\n",
    "plt.tight_layout()\n",
    "plt.show()\n",
    "\n",
    "# Print the genre counts for reference\n",
    "print(genre_counts)"
   ]
  },
  {
   "cell_type": "code",
   "execution_count": 34,
   "metadata": {},
   "outputs": [
    {
     "name": "stdout",
     "output_type": "stream",
     "text": [
      "   id_org                                          title_org  sequel_org  \\\n",
      "0     862                                          Toy Story         863   \n",
      "1     863                                        Toy Story 2       10193   \n",
      "2     675          Harry Potter and the Order of the Phoenix         767   \n",
      "3     121              The Lord of the Rings: The Two Towers         122   \n",
      "4     120  The Lord of the Rings: The Fellowship of the Ring         121   \n",
      "\n",
      "   id_seq                                      title_seq  sequel_seq  \n",
      "0     863                                    Toy Story 2       10193  \n",
      "1   10193                                    Toy Story 3        <NA>  \n",
      "2     767         Harry Potter and the Half-Blood Prince        <NA>  \n",
      "3     122  The Lord of the Rings: The Return of the King        <NA>  \n",
      "4     121          The Lord of the Rings: The Two Towers         122  \n"
     ]
    }
   ],
   "source": [
    "sequels = pd.read_pickle('sequels.p')\n",
    "\n",
    "original_sequels = sequels.merge(sequels, left_on='sequel', right_on='id', suffixes=('_org', '_seq'))\n",
    "\n",
    "print(original_sequels.head())"
   ]
  },
  {
   "cell_type": "code",
   "execution_count": 35,
   "metadata": {},
   "outputs": [
    {
     "name": "stdout",
     "output_type": "stream",
     "text": [
      "                                           title_org  \\\n",
      "0                                          Toy Story   \n",
      "1                                        Toy Story 2   \n",
      "2          Harry Potter and the Order of the Phoenix   \n",
      "3              The Lord of the Rings: The Two Towers   \n",
      "4  The Lord of the Rings: The Fellowship of the Ring   \n",
      "\n",
      "                                       title_seq  \n",
      "0                                    Toy Story 2  \n",
      "1                                    Toy Story 3  \n",
      "2         Harry Potter and the Half-Blood Prince  \n",
      "3  The Lord of the Rings: The Return of the King  \n",
      "4          The Lord of the Rings: The Two Towers  \n"
     ]
    }
   ],
   "source": [
    "print(original_sequels[['title_org','title_seq']].head())"
   ]
  },
  {
   "cell_type": "code",
   "execution_count": 36,
   "metadata": {},
   "outputs": [
    {
     "name": "stdout",
     "output_type": "stream",
     "text": [
      "        id department_dir   job_dir       name_dir department_crew  \\\n",
      "156  19995      Directing  Director  James Cameron         Editing   \n",
      "157  19995      Directing  Director  James Cameron           Sound   \n",
      "158  19995      Directing  Director  James Cameron      Production   \n",
      "160  19995      Directing  Director  James Cameron         Writing   \n",
      "161  19995      Directing  Director  James Cameron             Art   \n",
      "\n",
      "           job_crew          name_crew  \n",
      "156          Editor  Stephen E. Rivkin  \n",
      "157  Sound Designer  Christopher Boyes  \n",
      "158         Casting          Mali Finn  \n",
      "160          Writer      James Cameron  \n",
      "161    Set Designer    Richard F. Mays  \n"
     ]
    }
   ],
   "source": [
    "# Load the crews data\n",
    "crews = pd.read_pickle('crews.p')\n",
    "\n",
    "# Merge the crews table to itself using an inner join\n",
    "crews_self_merged = crews.merge(crews, on='id', how='inner', suffixes=('_dir', '_crew'))\n",
    "\n",
    "# Create a boolean filter to select rows with 'Director' in the left table and not 'Director' in the right table\n",
    "boolean_filter = ((crews_self_merged['job_dir'] == 'Director') & (crews_self_merged['job_crew'] != 'Director'))\n",
    "\n",
    "# Apply the filter to the merged table\n",
    "direct_crews = crews_self_merged[boolean_filter]\n",
    "\n",
    "# Print the first few rows\n",
    "print(direct_crews.head())"
   ]
  },
  {
   "cell_type": "code",
   "execution_count": 37,
   "metadata": {},
   "outputs": [
    {
     "name": "stdout",
     "output_type": "stream",
     "text": [
      "Concatenated tables in order, sorted:\n",
      "   aid             composer  gid  mtid                  name   tid  u_price\n",
      "0  152  J.Hetfield/L.Ulrich    3     1               Battery  1853     0.99\n",
      "1  152            K.Hammett    3     1     Master Of Puppets  1854     0.99\n",
      "2  152  J.Hetfield/L.Ulrich    3     1     Disposable Heroes  1857     0.99\n",
      "0  154                  NaN    3     1  Fight Fire With Fire  1874     0.99\n",
      "1  154                  NaN    3     1    Ride The Lightning  1875     0.99\n",
      "\n",
      "Concatenated tables with reset index:\n",
      "    tid                  name  aid  mtid  gid             composer  u_price\n",
      "0  1853               Battery  152     1    3  J.Hetfield/L.Ulrich     0.99\n",
      "1  1854     Master Of Puppets  152     1    3            K.Hammett     0.99\n",
      "2  1857     Disposable Heroes  152     1    3  J.Hetfield/L.Ulrich     0.99\n",
      "3  1874  Fight Fire With Fire  154     1    3                  NaN     0.99\n",
      "4  1875    Ride The Lightning  154     1    3                  NaN     0.99\n",
      "\n",
      "Concatenated tables with only common columns:\n",
      "    tid                  name  aid  mtid  gid  u_price\n",
      "0  1853               Battery  152     1    3     0.99\n",
      "1  1854     Master Of Puppets  152     1    3     0.99\n",
      "2  1857     Disposable Heroes  152     1    3     0.99\n",
      "0  1874  Fight Fire With Fire  154     1    3     0.99\n",
      "1  1875    Ride The Lightning  154     1    3     0.99\n",
      "\n"
     ]
    }
   ],
   "source": [
    "# Load the data\n",
    "tracks_master = pd.read_csv('tracks_master.csv')\n",
    "tracks_ride = pd.read_csv('tracks_ride.csv')\n",
    "tracks_st = pd.read_csv('tracks_st.csv')\n",
    "\n",
    "# 1. Concatenate the tables in order, setting sort to True\n",
    "all_tracks_sorted = pd.concat([tracks_master, tracks_ride, tracks_st], sort=True)\n",
    "print(\"Concatenated tables in order, sorted:\")\n",
    "print(all_tracks_sorted.head())\n",
    "print()\n",
    "\n",
    "# 2. Concatenate the tables, resetting the index\n",
    "all_tracks_reset = pd.concat([tracks_master, tracks_ride, tracks_st], ignore_index=True)\n",
    "print(\"Concatenated tables with reset index:\")\n",
    "print(all_tracks_reset.head())\n",
    "print()\n",
    "\n",
    "# 3. Concatenate the tables, keeping only common columns\n",
    "all_tracks_common = pd.concat([tracks_master, tracks_ride, tracks_st], axis=0, join='inner')\n",
    "print(\"Concatenated tables with only common columns:\")\n",
    "print(all_tracks_common.head())\n",
    "print()"
   ]
  },
  {
   "cell_type": "code",
   "execution_count": 38,
   "metadata": {},
   "outputs": [
    {
     "data": {
      "image/png": "[encoded data removed]",
      "text/plain": [
       "<Figure size 640x480 with 1 Axes>"
      ]
     },
     "metadata": {},
     "output_type": "display_data"
    }
   ],
   "source": [
    "# Load the data\n",
    "inv_jul = pd.read_csv('inv_jul.csv')\n",
    "inv_aug = pd.read_csv('inv_aug.csv') \n",
    "inv_sep = pd.read_csv('inv_sep.csv')\n",
    "\n",
    "# Concatenate the tables vertically with keys\n",
    "avg_inv_by_month = pd.concat([inv_jul, inv_aug, inv_sep], keys=['7Jul', '8Aug', '9Sep'])\n",
    "\n",
    "# Calculate the average of the 'total' column, grouped by the keys\n",
    "avg_invoice_total = avg_inv_by_month.groupby(level=0)['total'].mean()\n",
    "\n",
    "# Create a bar chart\n",
    "avg_invoice_total.plot(kind='bar')\n",
    "plt.title('Average Monthly Invoice Total')\n",
    "plt.xlabel('Month')\n",
    "plt.ylabel('Average Invoice Total')\n",
    "plt.xticks(rotation=45)\n",
    "plt.tight_layout()\n",
    "plt.show()"
   ]
  },
  {
   "cell_type": "code",
   "execution_count": 39,
   "metadata": {},
   "outputs": [
    {
     "name": "stdout",
     "output_type": "stream",
     "text": [
      "gdp_sp500 DataFrame:\n",
      "   Unnamed: 0 country code  year           gdp    date  returns\n",
      "0           3          USA  2010  1.500000e+13  2010.0    12.78\n",
      "1           7          USA  2011  1.550000e+13  2011.0     0.00\n",
      "2          11          USA  2012  1.620000e+13  2012.0    13.41\n",
      "3          15          USA  2012  1.620000e+13  2012.0    13.41\n",
      "4          19          USA  2013  1.680000e+13  2013.0    29.60\n",
      "5          23          USA  2014  1.750000e+13  2014.0    11.39\n",
      "6          27          USA  2015  1.820000e+13  2015.0    -0.73\n",
      "7          31          USA  2016  1.870000e+13  2016.0     9.54\n",
      "8          35          USA  2017  1.950000e+13  2017.0    19.42\n",
      "9          39          USA  2018  2.050000e+13     NaN      NaN\n",
      "\n",
      "Returns for 2018: 9   NaN\n",
      "Name: returns, dtype: float64\n",
      "\n",
      "Correlation Matrix:\n",
      "              gdp   returns\n",
      "gdp      1.000000  0.220321\n",
      "returns  0.220321  1.000000\n"
     ]
    }
   ],
   "source": [
    "# Step 1: Merge gdp and sp500 using merge_ordered()\n",
    "gdp = pd.read_csv('GDP.csv')\n",
    "sp500 = pd.read_csv('S&P500.csv')\n",
    "\n",
    "gdp_sp500 = pd.merge_ordered(gdp, sp500, left_on='year', right_on='date', how='left')\n",
    "\n",
    "print(\"gdp_sp500 DataFrame:\")\n",
    "print(gdp_sp500)\n",
    "\n",
    "# Check the returns for 2018\n",
    "print(\"\\nReturns for 2018:\", gdp_sp500.loc[gdp_sp500['year'] == 2018, 'returns'])\n",
    "\n",
    "# Step 2: Merge gdp and sp500 using merge_ordered() with forward fill\n",
    "gdp_sp500 = pd.merge_ordered(gdp, sp500, left_on='year', right_on='date', how='left', fill_method='ffill')\n",
    "\n",
    "# Step 3: Create gdp_returns DataFrame and compute correlation\n",
    "gdp_returns = gdp_sp500[['gdp', 'returns']]\n",
    "correlation_matrix = gdp_returns.corr()\n",
    "\n",
    "print(\"\\nCorrelation Matrix:\")\n",
    "print(correlation_matrix)"
   ]
  },
  {
   "cell_type": "code",
   "execution_count": 40,
   "metadata": {},
   "outputs": [
    {
     "name": "stdout",
     "output_type": "stream",
     "text": [
      "       date  unemployment_rate\n",
      "0  1/6/2013                7.5\n",
      "1  1/1/2014                6.7\n",
      "2  1/6/2014                6.1\n",
      "3  1/1/2015                5.6\n",
      "4  1/6/2015                5.3\n",
      "----------------------------------\n",
      "       date      cpi     seriesid                  data_type\n",
      "0  1/1/2014  235.288  CUSR0000SA0  SEASONALLY ADJUSTED INDEX\n",
      "1  1/2/2014  235.547  CUSR0000SA0  SEASONALLY ADJUSTED INDEX\n",
      "2  1/3/2014  236.028  CUSR0000SA0  SEASONALLY ADJUSTED INDEX\n",
      "3  1/4/2014  236.468  CUSR0000SA0  SEASONALLY ADJUSTED INDEX\n",
      "4  1/5/2014  236.918  CUSR0000SA0  SEASONALLY ADJUSTED INDEX\n",
      "----------------------------------\n",
      "       date      cpi     seriesid                  data_type  \\\n",
      "0  1/1/2014  235.288  CUSR0000SA0  SEASONALLY ADJUSTED INDEX   \n",
      "1  1/1/2015  234.718  CUSR0000SA0  SEASONALLY ADJUSTED INDEX   \n",
      "2  1/1/2016  237.833  CUSR0000SA0  SEASONALLY ADJUSTED INDEX   \n",
      "3  1/1/2017  243.780  CUSR0000SA0  SEASONALLY ADJUSTED INDEX   \n",
      "4  1/1/2018  248.884  CUSR0000SA0  SEASONALLY ADJUSTED INDEX   \n",
      "\n",
      "   unemployment_rate  \n",
      "0                6.7  \n",
      "1                5.6  \n",
      "2                5.0  \n",
      "3                4.7  \n",
      "4                4.1  \n"
     ]
    }
   ],
   "source": [
    "# Load the data\n",
    "unemployment = pd.read_csv('unemployment.csv')\n",
    "inflation = pd.read_csv('inflation.csv')\n",
    "\n",
    "# Print the first few rows of both dataframes to inspect\n",
    "print(unemployment.head())\n",
    "print(\"----------------------------------\")\n",
    "print(inflation.head())\n",
    "\n",
    "# Merge using merge_ordered with an inner join on the 'date' column\n",
    "inflation_unemploy = pd.merge_ordered(inflation, unemployment, on='date', how='inner')\n",
    "\n",
    "# Print the resulting merged dataframe\n",
    "print(\"----------------------------------\")\n",
    "print(inflation_unemploy.head())"
   ]
  },
  {
   "cell_type": "code",
   "execution_count": 41,
   "metadata": {},
   "outputs": [
    {
     "data": {
      "image/png": "[encoded data removed]",
      "text/plain": [
       "<Figure size 800x600 with 1 Axes>"
      ]
     },
     "metadata": {},
     "output_type": "display_data"
    },
    {
     "name": "stdout",
     "output_type": "stream",
     "text": [
      "                   unemployment_rate       cpi\n",
      "unemployment_rate           1.000000 -0.868388\n",
      "cpi                        -0.868388  1.000000\n"
     ]
    }
   ],
   "source": [
    "import seaborn as sns\n",
    "\n",
    "# Create a scatter plot\n",
    "plt.figure(figsize=(8, 6))\n",
    "sns.scatterplot(data=inflation_unemploy, x='unemployment_rate', y='cpi')\n",
    "\n",
    "# Set the title and labels\n",
    "plt.title('Phillips Curve: Unemployment vs. Inflation')\n",
    "plt.xlabel('Unemployment Rate (%)')\n",
    "plt.ylabel('CPI (Inflation)')\n",
    "\n",
    "# Show the plot\n",
    "plt.show()\n",
    "\n",
    "# Calculate the correlation between unemployment_rate and cpi\n",
    "correlation = inflation_unemploy[['unemployment_rate', 'cpi']].corr()\n",
    "\n",
    "# Print the correlation result\n",
    "print(correlation)"
   ]
  }
 ],
 "metadata": {
  "kernelspec": {
   "display_name": "myenv",
   "language": "python",
   "name": "python3"
  },
  "language_info": {
   "codemirror_mode": {
    "name": "ipython",
    "version": 3
   },
   "file_extension": ".py",
   "mimetype": "text/x-python",
   "name": "python",
   "nbconvert_exporter": "python",
   "pygments_lexer": "ipython3",
   "version": "3.13.0"
  }
 },
 "nbformat": 4,
 "nbformat_minor": 2
}
