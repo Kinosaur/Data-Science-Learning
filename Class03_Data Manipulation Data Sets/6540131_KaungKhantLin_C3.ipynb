{
 "cells": [
  {
   "cell_type": "code",
   "execution_count": null,
   "metadata": {},
   "outputs": [],
   "source": [
    "import pandas as pd\n",
    "import numpy as np"
   ]
  },
  {
   "cell_type": "code",
   "execution_count": null,
   "metadata": {},
   "outputs": [],
   "source": [
    "homelessness = pd.read_csv('Class03_Data Manipulation Data Sets/homelessness.csv', index_col=0)\n",
    "\n",
    "homelessness.describe()\n",
    "print(homelessness.shape)\n",
    "display(homelessness.head())\n",
    "homelessness.describe()\n",
    "homelessness.shape\n",
    "homelessness.values\n",
    "homelessness.columns\n",
    "homelessness.index"
   ]
  },
  {
   "cell_type": "code",
   "execution_count": null,
   "metadata": {},
   "outputs": [],
   "source": [
    "homelessness_ind = homelessness.sort_values(by='individuals', ascending=True)\n",
    "display(homelessness_ind.head())"
   ]
  },
  {
   "cell_type": "code",
   "execution_count": null,
   "metadata": {},
   "outputs": [],
   "source": [
    "homelessness_fam = homelessness.sort_values(by='family_members', ascending=False)\n",
    "display(homelessness_fam.head())"
   ]
  },
  {
   "cell_type": "code",
   "execution_count": null,
   "metadata": {},
   "outputs": [],
   "source": [
    "homelessness_reg_fam = homelessness.sort_values(by=['region', 'family_members'], ascending=[True, False])\n",
    "display(homelessness_reg_fam.head())"
   ]
  },
  {
   "cell_type": "code",
   "execution_count": null,
   "metadata": {},
   "outputs": [],
   "source": [
    "state_fam = homelessness[['state', 'family_members']]\n",
    "display(state_fam.head())"
   ]
  },
  {
   "cell_type": "code",
   "execution_count": null,
   "metadata": {},
   "outputs": [],
   "source": [
    "ind_gt_10k = homelessness[homelessness['individuals'] > 10000]\n",
    "display(ind_gt_10k.head())\n",
    "print('\\nSorted Version')\n",
    "ind_gt_10k = homelessness[homelessness['individuals'] > 10000].sort_values('individuals', ascending=True)\n",
    "\n",
    "display(ind_gt_10k.head())"
   ]
  },
  {
   "cell_type": "code",
   "execution_count": null,
   "metadata": {},
   "outputs": [],
   "source": [
    "mountain_reg = homelessness[homelessness['region'] == 'Mountain']\n",
    "display(mountain_reg.head(10))"
   ]
  },
  {
   "cell_type": "code",
   "execution_count": null,
   "metadata": {},
   "outputs": [],
   "source": [
    "fam_It_1k_pac = homelessness[(homelessness['family_members'] < 1000) & (homelessness['region'] == 'Pacific')]\n",
    "display(fam_It_1k_pac.head())"
   ]
  },
  {
   "cell_type": "code",
   "execution_count": null,
   "metadata": {},
   "outputs": [],
   "source": [
    "homeless_pop = homelessness[homelessness['state_pop'] < 2000000]\n",
    "display(homeless_pop.head())"
   ]
  },
  {
   "cell_type": "code",
   "execution_count": null,
   "metadata": {},
   "outputs": [],
   "source": [
    "south_mid_atlantic = homelessness[homelessness['region'].isin(['South Atlantic', 'Mid-Atlantic'])]  \n",
    "display(south_mid_atlantic.head(12))"
   ]
  },
  {
   "cell_type": "code",
   "execution_count": null,
   "metadata": {},
   "outputs": [],
   "source": [
    "mojave_homelessness = homelessness[homelessness['state'].isin(['California', 'Nevada', 'Arizona', 'Utah'])]\n",
    "display(mojave_homelessness.head())"
   ]
  },
  {
   "cell_type": "code",
   "execution_count": null,
   "metadata": {},
   "outputs": [],
   "source": [
    "homelessness['total'] = homelessness['individuals'] + homelessness['family_members']\n",
    "display(homelessness.head())"
   ]
  },
  {
   "cell_type": "code",
   "execution_count": null,
   "metadata": {},
   "outputs": [],
   "source": [
    "homelessness['p_individuals'] = homelessness['individuals'] / homelessness['total']\n",
    "display(homelessness.head())"
   ]
  },
  {
   "cell_type": "code",
   "execution_count": null,
   "metadata": {},
   "outputs": [],
   "source": [
    "homelessness['indiv_per_10k'] = homelessness['individuals'] / homelessness['state_pop'] * 10000\n",
    "high_homelessness = homelessness[homelessness['indiv_per_10k'] > 20]\n",
    "high_homelessness_srt = high_homelessness.sort_values('indiv_per_10k', ascending=False)\n",
    "display(high_homelessness_srt[['state', 'indiv_per_10k']])"
   ]
  },
  {
   "cell_type": "code",
   "execution_count": null,
   "metadata": {},
   "outputs": [],
   "source": [
    "sales = pd.read_csv(\"Class03_Data Manipulation Data Sets/sales_subset.csv\",index_col=0)\n",
    "# Print the head of the sales DataFrame\n",
    "print(sales.head())\n",
    "print('----------------------------------------------------------------------------')\n",
    "# Print the info about the sales DataFrame\n",
    "print(sales.info())\n",
    "print('----------------------------------------------------------------------------')\n",
    "# Print the mean of weekly_sales\n",
    "print(sales['weekly_sales'].mean())\n",
    "print('----------------------------------------------------------------------------')\n",
    "# Print the median of weekly_sales\n",
    "print(sales['weekly_sales'].median())\n",
    "print('----------------------------------------------------------------------------')\n",
    "# Print the maximum of the date column\n",
    "print(sales['date'].max())\n",
    "print('----------------------------------------------------------------------------')\n",
    "# Print the minimum of the date column\n",
    "print(sales['date'].min())"
   ]
  },
  {
   "cell_type": "code",
   "execution_count": null,
   "metadata": {},
   "outputs": [],
   "source": [
    "sales_1_1 = sales[(sales['department'] == 1) & (sales['store'] == 1)]\n",
    "# Sort sales_1_1 by date\n",
    "sales_1_1 = sales_1_1.sort_values('date', ascending = True)\n",
    "# Get the cumulative sum of weekly_sales, add as cum_weekly_sales col\n",
    "sales_1_1['cum_weekly_sales'] = sales['weekly_sales'].cumsum()\n",
    "# Get the cumulative max of weekly_sales, add as cum_max_sales col\n",
    "sales_1_1['cum_max_sales'] = sales['weekly_sales'].cummax()\n",
    "# See the columns you calculated\n",
    "print(sales_1_1[[\"date\", \"weekly_sales\", \"cum_weekly_sales\", \"cum_max_sales\"]])"
   ]
  },
  {
   "cell_type": "code",
   "execution_count": null,
   "metadata": {},
   "outputs": [],
   "source": [
    "store_types = sales.drop_duplicates(subset=['store', 'type'])\n",
    "store_types.head()"
   ]
  },
  {
   "cell_type": "code",
   "execution_count": null,
   "metadata": {},
   "outputs": [],
   "source": [
    "store_depts = sales.drop_duplicates(subset=['store', 'department'])\n",
    "store_depts.head()"
   ]
  },
  {
   "cell_type": "code",
   "execution_count": null,
   "metadata": {},
   "outputs": [],
   "source": [
    "holiday_dates = sales.drop_duplicates(subset='date')[sales['is_holiday'] == True]\n",
    "print(holiday_dates['date'])"
   ]
  },
  {
   "cell_type": "code",
   "execution_count": null,
   "metadata": {},
   "outputs": [],
   "source": [
    "# Count the number of stores of each store type\n",
    "store_type_counts = store_types[\"type\"].value_counts()\n",
    "print(store_type_counts)\n",
    "print('----------------------------------------------------------------------------')\n",
    "# Count the proportion of stores of each store type\n",
    "store_type_proportion = store_types[\"type\"].value_counts(normalize=True)\n",
    "print(store_type_proportion)\n",
    "print('----------------------------------------------------------------------------')\n",
    "# Count the number of different departments, sorting the counts in descending order\n",
    "dept_counts = store_depts[\"department\"].value_counts().sort_values(ascending=False)\n",
    "print(dept_counts)\n",
    "print('----------------------------------------------------------------------------')\n",
    "# Count the proportion of different departments, sorting the proportions in descending order\n",
    "dept_proportion = store_depts[\"department\"].value_counts(normalize=True).sort_values(ascending=False)\n",
    "print(dept_proportion)"
   ]
  },
  {
   "cell_type": "code",
   "execution_count": null,
   "metadata": {},
   "outputs": [],
   "source": [
    "# Calc total weekly sales\n",
    "sales_all = sales[\"weekly_sales\"].sum()\n",
    "# Subset for type A stores, calc total weekly sales\n",
    "sales_A = sales[sales[\"type\"] == \"A\"][\"weekly_sales\"].sum()\n",
    "# Subset for type B stores, calc total weekly sales\n",
    "sales_B = sales[sales[\"type\"] == \"B\"][\"weekly_sales\"].sum()\n",
    "# Subset for type C stores, calc total weekly sales\n",
    "sales_C = sales[sales[\"type\"] == \"C\"][\"weekly_sales\"].sum()\n",
    "# Get proportion for each type\n",
    "sales_propn_by_type = [sales_A, sales_B, sales_C] / sales_all\n",
    "print(sales_propn_by_type)"
   ]
  },
  {
   "cell_type": "code",
   "execution_count": null,
   "metadata": {},
   "outputs": [],
   "source": [
    "# For each store type, aggregate weekly_sales to calculate min, max, mean, and median\n",
    "sales_stats = sales.groupby('type')['weekly_sales'].agg([min, max, np.mean, np.median])\n",
    "# Print the aggregated sales statistics\n",
    "print(\"Sales Statistics by Store Type:\")\n",
    "print(sales_stats)\n",
    "\n",
    "# For each store type, aggregate unemployment and fuel_price_usd_per_l to calculate min, max, mean, and median\n",
    "unemp_fuel_stats = sales.groupby('type')[['unemployment', 'fuel_price_usd_per_l']].agg([min, max, np.mean, np.median])\n",
    "# Print the aggregated unemployment and fuel price statistics\n",
    "print(\"\\nUnemployment and Fuel Price Statistics by Store Type:\")\n",
    "print(unemp_fuel_stats)"
   ]
  },
  {
   "cell_type": "code",
   "execution_count": null,
   "metadata": {},
   "outputs": [],
   "source": [
    "temperatures = pd.read_csv(\"Class03_Data Manipulation Data Sets/temperatures.csv\", index_col=0)\n",
    "\n",
    "# Print the head of the temperatures DataFrame  \n",
    "print(temperatures)\n",
    "\n",
    "# Set the index of temperatures to city\n",
    "temperatures_ind = temperatures.set_index('city')\n",
    "\n",
    "# Look at temperatures_ind\n",
    "print(temperatures_ind)\n",
    "\n",
    "# Reset the temperatures_ind index, keeping its contents\n",
    "print(temperatures_ind.reset_index())\n",
    "\n",
    "# Reset the temperatures_ind index, dropping its contents\n",
    "print(temperatures_ind.reset_index(drop = True))\n",
    "\n",
    "# Make a list of cities to subset on\n",
    "cities = [\"Moscow\", \"Saint Petersburg\"]\n",
    "\n",
    "# Subset temperatures using square brackets\n",
    "print(temperatures[temperatures['city'].isin(cities)])\n",
    "\n",
    "# Subset temperatures_ind using .loc[]\n",
    "print(temperatures_ind.loc[cities])"
   ]
  },
  {
   "cell_type": "code",
   "execution_count": null,
   "metadata": {},
   "outputs": [],
   "source": [
    "# Import matplotlib.pyplot with alias plt\n",
    "import matplotlib.pyplot as plt\n",
    "\n",
    "# Load the data\n",
    "avocados = pd.read_pickle(\"Class03_Data Manipulation Data Sets/avoplotto.pkl\")\n",
    "\n",
    "# Look at the first few rows of the data\n",
    "print(\"First few rows of the dataset:\")\n",
    "print(avocados.head())\n",
    "\n",
    "# Get the total number of avocados sold for each size\n",
    "nb_sold_by_size = avocados.groupby('size')['nb_sold'].sum()\n",
    "\n",
    "# Create a bar plot of the number of avocados sold by size\n",
    "print(\"\\nNumber of avocados sold by size:\")\n",
    "print(nb_sold_by_size)\n",
    "nb_sold_by_size.plot(kind='bar', title=\"Number of Avocados Sold by Size\")\n",
    "\n",
    "# Display the plot\n",
    "plt.xlabel(\"Size\")\n",
    "plt.ylabel(\"Number of Avocados Sold\")\n",
    "plt.tight_layout()\n",
    "plt.show()\n"
   ]
  },
  {
   "cell_type": "code",
   "execution_count": null,
   "metadata": {},
   "outputs": [],
   "source": [
    "# Get the total number of avocados sold on each date\n",
    "nb_sold_by_date = avocados.groupby('date')['nb_sold'].sum()\n",
    "# Create a line plot of the number of avocados sold by date\n",
    "nb_sold_by_date.plot(kind='line', rot = 45)\n",
    "# Show the plot\n",
    "plt.show()"
   ]
  },
  {
   "cell_type": "code",
   "execution_count": null,
   "metadata": {},
   "outputs": [],
   "source": [
    "# Scatter plot of avg_price vs. nb_sold with title\n",
    "avocados.plot(x='nb_sold', y='avg_price', kind = 'scatter', title = 'Number of avocados sold vs. average price')\n",
    "# Show the plot\n",
    "plt.show()"
   ]
  },
  {
   "cell_type": "code",
   "execution_count": null,
   "metadata": {},
   "outputs": [],
   "source": [
    "# Histogram of conventional avg_price\n",
    "avocados[avocados['type'] == 'conventional']['avg_price'].plot(kind = 'hist')\n",
    "# Histogram of organic avg_price\n",
    "avocados[avocados['type'] == 'organic']['avg_price'].plot(kind = 'hist')\n",
    "# Add a legend\n",
    "plt.legend(['conventional','organic'])\n",
    "# Show the plot\n",
    "plt.show()"
   ]
  },
  {
   "cell_type": "code",
   "execution_count": null,
   "metadata": {},
   "outputs": [],
   "source": [
    "# Histogram of conventional avg_price\n",
    "avocados[avocados['type'] == 'conventional']['avg_price'].plot(kind = 'hist')\n",
    "# Histogram of organic avg_price\n",
    "avocados[avocados['type'] == 'organic']['avg_price'].plot(kind = 'hist', alpha = 0.6)\n",
    "# Add a legend\n",
    "plt.legend(['conventional','organic'])\n",
    "# Show the plot\n",
    "plt.show()"
   ]
  },
  {
   "cell_type": "code",
   "execution_count": null,
   "metadata": {},
   "outputs": [],
   "source": [
    "avocados_2016 = pd.read_csv(\"Class03_Data Manipulation Data Sets/avocados_2016.csv\", index_col = 0)\n",
    "\n",
    "# Check individual values for missing values\n",
    "print(avocados_2016.isna())\n",
    "# Check each column for missing values\n",
    "print(avocados_2016.isna().any())\n",
    "# Bar plot of missing values by variable\n",
    "avocados_2016.isna().sum().plot(kind = 'bar')\n",
    "# Show plot\n",
    "plt.show()\n",
    "# Remove rows with missing values\n",
    "avocados_complete = avocados_2016.dropna()\n",
    "# Check if any columns contain missing values\n",
    "print(avocados_complete.isna().any())"
   ]
  },
  {
   "cell_type": "code",
   "execution_count": null,
   "metadata": {},
   "outputs": [],
   "source": [
    "gdp_data = pd.read_csv(\"Class03_Data Manipulation Data Sets/WorldBank_GDP.csv\", index_col = 0)"
   ]
  },
  {
   "cell_type": "code",
   "execution_count": null,
   "metadata": {},
   "outputs": [],
   "source": [
    "# Which country’s GDP is growing during the Year 2010 and Year 2018?\n",
    "\n",
    "# Filter data for the years 2010 and 2018\n",
    "gdp_2010_2018 = gdp_data[gdp_data['Year'].isin([2010, 2018])]\n",
    "\n",
    "# Pivot the data to make countries as rows and years as columns\n",
    "gdp_pivot = gdp_2010_2018.pivot(columns='Year', values='GDP')\n",
    "\n",
    "# Drop rows with missing values for either year\n",
    "gdp_pivot = gdp_pivot.dropna()\n",
    "\n",
    "# Calculate GDP growth from 2010 to 2018\n",
    "gdp_pivot['Growth'] = gdp_pivot[2018] - gdp_pivot[2010]\n",
    "\n",
    "# Filter countries with positive growth\n",
    "growing_countries = gdp_pivot[gdp_pivot['Growth'] > 0]\n",
    "\n",
    "# Plot the GDP growth for these countries\n",
    "growing_countries['Growth'].sort_values(ascending=False).plot(kind='bar')\n",
    "plt.title('Countries with Positive GDP Growth (2010 to 2018)')\n",
    "plt.ylabel('GDP Growth (US$)')\n",
    "plt.xlabel('Country')\n",
    "plt.show()\n"
   ]
  },
  {
   "cell_type": "code",
   "execution_count": null,
   "metadata": {},
   "outputs": [],
   "source": [
    "avg_temp_c = temperatures.groupby('country')['avg_temp_c'].mean().reset_index()\n",
    "\n",
    "print(avg_temp_c)\n",
    "print(avg_temp_c.max())\n",
    "temp_country2030 = avg_temp_c[(avg_temp_c['avg_temp_c'] >= 20) & (avg_temp_c['avg_temp_c'] <= 30)][['country', 'avg_temp_c']]\n",
    "print(temp_country2030)\n",
    "print(temp_country2030.count())\n"
   ]
  },
  {
   "cell_type": "code",
   "execution_count": null,
   "metadata": {},
   "outputs": [],
   "source": [
    "temp_thailand = temperatures[temperatures['country'] == 'Thailand']\n",
    "temp_thailand"
   ]
  },
  {
   "cell_type": "code",
   "execution_count": null,
   "metadata": {},
   "outputs": [],
   "source": [
    "temp_thailand_20052010 = temp_thailand[temp_thailand['date'].between('2005-01-01', '2010-01-01')]\n",
    "display(temp_thailand_20052010)\n",
    "\n",
    "# Average Temperature during that Period\n",
    "avg_temp_thailand_200520010 = temp_thailand_20052010['avg_temp_c'].mean()\n",
    "print(\"The avg. temp of Thailand during 2005-2010 is \", avg_temp_thailand_200520010, \"Celsius.\")"
   ]
  }
 ],
 "metadata": {
  "kernelspec": {
   "display_name": "Python 3",
   "language": "python",
   "name": "python3"
  },
  "language_info": {
   "codemirror_mode": {
    "name": "ipython",
    "version": 3
   },
   "file_extension": ".py",
   "mimetype": "text/x-python",
   "name": "python",
   "nbconvert_exporter": "python",
   "pygments_lexer": "ipython3",
   "version": "3.13.0"
  }
 },
 "nbformat": 4,
 "nbformat_minor": 2
}
