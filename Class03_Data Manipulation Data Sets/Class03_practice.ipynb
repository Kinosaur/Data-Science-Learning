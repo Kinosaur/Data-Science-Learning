{
 "cells": [
  {
   "cell_type": "code",
   "execution_count": 3,
   "metadata": {},
   "outputs": [],
   "source": [
    "import pandas as pd\n",
    "import numpy as np"
   ]
  },
  {
   "cell_type": "code",
   "execution_count": 4,
   "metadata": {},
   "outputs": [
    {
     "data": {
      "text/html": [
       "<div>\n",
       "<style scoped>\n",
       "    .dataframe tbody tr th:only-of-type {\n",
       "        vertical-align: middle;\n",
       "    }\n",
       "\n",
       "    .dataframe tbody tr th {\n",
       "        vertical-align: top;\n",
       "    }\n",
       "\n",
       "    .dataframe thead th {\n",
       "        text-align: right;\n",
       "    }\n",
       "</style>\n",
       "<table border=\"1\" class=\"dataframe\">\n",
       "  <thead>\n",
       "    <tr style=\"text-align: right;\">\n",
       "      <th></th>\n",
       "      <th>rid</th>\n",
       "      <th>vid</th>\n",
       "      <th>owner</th>\n",
       "      <th>address</th>\n",
       "      <th>zip</th>\n",
       "    </tr>\n",
       "  </thead>\n",
       "  <tbody>\n",
       "    <tr>\n",
       "      <th>0</th>\n",
       "      <td>T6285</td>\n",
       "      <td>6285</td>\n",
       "      <td>AGEAN TAXI LLC</td>\n",
       "      <td>4536 N. ELSTON AVE.</td>\n",
       "      <td>60630</td>\n",
       "    </tr>\n",
       "    <tr>\n",
       "      <th>1</th>\n",
       "      <td>T4862</td>\n",
       "      <td>4862</td>\n",
       "      <td>MANGIB CORP.</td>\n",
       "      <td>5717 N. WASHTENAW AVE.</td>\n",
       "      <td>60659</td>\n",
       "    </tr>\n",
       "    <tr>\n",
       "      <th>2</th>\n",
       "      <td>T1495</td>\n",
       "      <td>1495</td>\n",
       "      <td>FUNRIDE, INC.</td>\n",
       "      <td>3351 W. ADDISON ST.</td>\n",
       "      <td>60618</td>\n",
       "    </tr>\n",
       "    <tr>\n",
       "      <th>3</th>\n",
       "      <td>T4231</td>\n",
       "      <td>4231</td>\n",
       "      <td>ALQUSH CORP.</td>\n",
       "      <td>6611 N. CAMPBELL AVE.</td>\n",
       "      <td>60645</td>\n",
       "    </tr>\n",
       "    <tr>\n",
       "      <th>4</th>\n",
       "      <td>T5971</td>\n",
       "      <td>5971</td>\n",
       "      <td>EUNIFFORD INC.</td>\n",
       "      <td>3351 W. ADDISON ST.</td>\n",
       "      <td>60618</td>\n",
       "    </tr>\n",
       "  </tbody>\n",
       "</table>\n",
       "</div>"
      ],
      "text/plain": [
       "     rid   vid           owner                 address    zip\n",
       "0  T6285  6285  AGEAN TAXI LLC     4536 N. ELSTON AVE.  60630\n",
       "1  T4862  4862    MANGIB CORP.  5717 N. WASHTENAW AVE.  60659\n",
       "2  T1495  1495   FUNRIDE, INC.     3351 W. ADDISON ST.  60618\n",
       "3  T4231  4231    ALQUSH CORP.   6611 N. CAMPBELL AVE.  60645\n",
       "4  T5971  5971  EUNIFFORD INC.     3351 W. ADDISON ST.  60618"
      ]
     },
     "execution_count": 4,
     "metadata": {},
     "output_type": "execute_result"
    }
   ],
   "source": [
    "taxi_owner = pd.read_pickle('taxi_owners.p')\n",
    "taxi_owner.head()"
   ]
  },
  {
   "cell_type": "code",
   "execution_count": 6,
   "metadata": {},
   "outputs": [
    {
     "data": {
      "text/plain": [
       "(3519, 5)"
      ]
     },
     "execution_count": 6,
     "metadata": {},
     "output_type": "execute_result"
    }
   ],
   "source": [
    "taxi_owner.shape"
   ]
  },
  {
   "cell_type": "code",
   "execution_count": 8,
   "metadata": {},
   "outputs": [
    {
     "data": {
      "text/plain": [
       "array([['T6285', '6285', 'AGEAN TAXI LLC', '4536 N. ELSTON AVE.',\n",
       "        '60630'],\n",
       "       ['T4862', '4862', 'MANGIB CORP.', '5717 N. WASHTENAW AVE.',\n",
       "        '60659'],\n",
       "       ['T1495', '1495', 'FUNRIDE, INC.', '3351 W. ADDISON ST.', '60618'],\n",
       "       ...,\n",
       "       ['T3465', '3465', 'AMIR EXPRESS INC', '3351 W. ADDISON ST.',\n",
       "        '60618'],\n",
       "       ['T1962', '1962', 'KARY CAB COMPANY', '4707 N. KENTON AVE.',\n",
       "        '60630'],\n",
       "       ['T1031', '1031', 'NECT 42 LLC', '6500 N. WESTERN AVE.', '60645']],\n",
       "      shape=(3519, 5), dtype=object)"
      ]
     },
     "execution_count": 8,
     "metadata": {},
     "output_type": "execute_result"
    }
   ],
   "source": [
    "taxi_owner.values"
   ]
  }
 ],
 "metadata": {
  "kernelspec": {
   "display_name": "myenv",
   "language": "python",
   "name": "python3"
  },
  "language_info": {
   "codemirror_mode": {
    "name": "ipython",
    "version": 3
   },
   "file_extension": ".py",
   "mimetype": "text/x-python",
   "name": "python",
   "nbconvert_exporter": "python",
   "pygments_lexer": "ipython3",
   "version": "3.13.0"
  }
 },
 "nbformat": 4,
 "nbformat_minor": 2
}
